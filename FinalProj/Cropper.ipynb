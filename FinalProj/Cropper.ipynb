{
 "cells": [
  {
   "cell_type": "markdown",
   "id": "8596a2da",
   "metadata": {},
   "source": [
    "### - Sobhan Moradian Daghigh\n",
    "#### - DIP - Final Project\n",
    "#### - Date: 7-13-2022"
   ]
  },
  {
   "cell_type": "code",
   "execution_count": null,
   "id": "a8caa837",
   "metadata": {},
   "outputs": [],
   "source": []
  },
  {
   "cell_type": "markdown",
   "id": "96efe41b",
   "metadata": {},
   "source": [
    "### Import Libraries"
   ]
  },
  {
   "cell_type": "code",
   "execution_count": 2,
   "id": "bbba8c40",
   "metadata": {},
   "outputs": [
    {
     "name": "stdout",
     "output_type": "stream",
     "text": [
      "pygame 2.1.2 (SDL 2.0.18, Python 3.10.1)\n",
      "Hello from the pygame community. https://www.pygame.org/contribute.html\n"
     ]
    }
   ],
   "source": [
    "import pygame, sys\n",
    "from PIL import Image\n",
    "import glob"
   ]
  },
  {
   "cell_type": "code",
   "execution_count": 3,
   "id": "c604fb33",
   "metadata": {},
   "outputs": [],
   "source": [
    "pygame.init()\n",
    "def displayImage(screen, px, topleft, prior):\n",
    "    # ensure that the rect always has positive width, height\n",
    "    x, y = topleft\n",
    "    width =  pygame.mouse.get_pos()[0] - topleft[0]\n",
    "    height = pygame.mouse.get_pos()[1] - topleft[1]\n",
    "    if width < 0:\n",
    "        x += width\n",
    "        width = abs(width)\n",
    "    if height < 0:\n",
    "        y += height\n",
    "        height = abs(height)\n",
    "\n",
    "    # eliminate redundant drawing cycles (when mouse isn't moving)\n",
    "    current = x, y, width, height\n",
    "    if not (width and height):\n",
    "        return current\n",
    "    if current == prior:\n",
    "        return current\n",
    "\n",
    "    # draw transparent box and blit it onto canvas\n",
    "    screen.blit(px, px.get_rect())\n",
    "    im = pygame.Surface((width, height))\n",
    "    im.fill((128, 128, 128))\n",
    "    pygame.draw.rect(im, (32, 32, 32), im.get_rect(), 1)\n",
    "    im.set_alpha(128)\n",
    "    screen.blit(im, (x, y))\n",
    "    pygame.display.flip()\n",
    "\n",
    "    # return current box extents\n",
    "    return (x, y, width, height)"
   ]
  },
  {
   "cell_type": "code",
   "execution_count": 4,
   "id": "f09f3193",
   "metadata": {},
   "outputs": [],
   "source": [
    "def setup(path):\n",
    "    px = pygame.image.load(path)\n",
    "    screen = pygame.display.set_mode(px.get_rect()[2:])\n",
    "    screen.blit(px, px.get_rect())\n",
    "    pygame.display.flip()\n",
    "    return screen, px"
   ]
  },
  {
   "cell_type": "code",
   "execution_count": 24,
   "id": "1fb2bdc6",
   "metadata": {},
   "outputs": [],
   "source": [
    "def mainLoop(screen, px):\n",
    "    topleft = bottomright = prior = None\n",
    "    n=0\n",
    "    while n!=1:\n",
    "        for event in pygame.event.get():\n",
    "            if event.type == pygame.KEYDOWN or event.type == pygame.KEYUP:\n",
    "                pygame.display.quit()\n",
    "                return None\n",
    "                \n",
    "            if event.type == pygame.MOUSEBUTTONUP:\n",
    "                if not topleft:\n",
    "                    topleft = event.pos\n",
    "                else:\n",
    "                    bottomright = event.pos\n",
    "                    n=1\n",
    "        if topleft:\n",
    "            prior = displayImage(screen, px, topleft, prior)\n",
    "    return (topleft + bottomright)"
   ]
  },
  {
   "cell_type": "code",
   "execution_count": 31,
   "id": "0f9d2e19",
   "metadata": {},
   "outputs": [],
   "source": [
    "def load_and_crop_datas(path):\n",
    "    folders = glob.glob('{}*'.format(path))\n",
    "    \n",
    "    for folder in folders:\n",
    "        classes = glob.glob('{}/*'.format(folder))\n",
    "        \n",
    "        for class_ in classes:            \n",
    "            images = glob.glob('{}/*.jpg'.format(class_))\n",
    "            print('here')\n",
    "            for image in images:\n",
    "                screen, px = setup(image)             \n",
    "                try:\n",
    "                    left, upper, right, lower = mainLoop(screen, px)\n",
    "                except:\n",
    "                    continue\n",
    "\n",
    "                # ensure output rect always has positive width, height\n",
    "                if right < left:\n",
    "                    left, right = right, left\n",
    "                if lower < upper:\n",
    "                    lower, upper = upper, lower\n",
    "                    \n",
    "                im = Image.open(image)\n",
    "                im = im.crop((left, upper, right, lower))\n",
    "                pygame.display.quit()\n",
    "                im.save(image)"
   ]
  },
  {
   "cell_type": "code",
   "execution_count": 33,
   "id": "914cdd1f",
   "metadata": {},
   "outputs": [
    {
     "name": "stdout",
     "output_type": "stream",
     "text": [
      "here\n",
      "here\n",
      "here\n",
      "here\n",
      "here\n",
      "here\n",
      "here\n",
      "here\n"
     ]
    }
   ],
   "source": [
    "load_and_crop_datas('./apple_disease_dataset/')"
   ]
  },
  {
   "cell_type": "code",
   "execution_count": null,
   "id": "5630da4d",
   "metadata": {},
   "outputs": [],
   "source": []
  },
  {
   "cell_type": "code",
   "execution_count": null,
   "id": "c32dc756",
   "metadata": {},
   "outputs": [],
   "source": []
  },
  {
   "cell_type": "markdown",
   "id": "48875194",
   "metadata": {},
   "source": [
    "### Finito"
   ]
  }
 ],
 "metadata": {
  "kernelspec": {
   "display_name": "Python 3 (ipykernel)",
   "language": "python",
   "name": "python3"
  },
  "language_info": {
   "codemirror_mode": {
    "name": "ipython",
    "version": 3
   },
   "file_extension": ".py",
   "mimetype": "text/x-python",
   "name": "python",
   "nbconvert_exporter": "python",
   "pygments_lexer": "ipython3",
   "version": "3.10.1"
  },
  "toc": {
   "base_numbering": 1,
   "nav_menu": {},
   "number_sections": false,
   "sideBar": true,
   "skip_h1_title": false,
   "title_cell": "Table of Contents",
   "title_sidebar": "Contents",
   "toc_cell": false,
   "toc_position": {},
   "toc_section_display": true,
   "toc_window_display": false
  }
 },
 "nbformat": 4,
 "nbformat_minor": 5
}
