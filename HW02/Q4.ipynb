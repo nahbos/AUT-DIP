{
 "cells": [
  {
   "cell_type": "markdown",
   "id": "ed8e4376",
   "metadata": {},
   "source": [
    "### - Sobhan Moradian Daghigh\n",
    "#### - 5/7/2022\n",
    "#### - DIP - HW02 - Q4"
   ]
  },
  {
   "cell_type": "code",
   "execution_count": null,
   "id": "5473ece4",
   "metadata": {},
   "outputs": [],
   "source": []
  },
  {
   "cell_type": "code",
   "execution_count": 1,
   "id": "2accb129",
   "metadata": {},
   "outputs": [],
   "source": [
    "import numpy as np\n",
    "from PIL import Image\n",
    "import cv2\n",
    "from IPython.display import display\n",
    "from matplotlib import pyplot as plt\n",
    "import glob"
   ]
  },
  {
   "cell_type": "code",
   "execution_count": null,
   "id": "034e138a",
   "metadata": {},
   "outputs": [],
   "source": []
  },
  {
   "cell_type": "markdown",
   "id": "6b82762f",
   "metadata": {},
   "source": [
    "### Part A."
   ]
  },
  {
   "cell_type": "code",
   "execution_count": 44,
   "id": "2ce350b2",
   "metadata": {},
   "outputs": [],
   "source": [
    "def load_datas(folder_name):\n",
    "    images = glob.glob('{}*.png'.format(folder_name))\n",
    "    datas = []\n",
    "    names = []\n",
    "    for image in images:\n",
    "        img = cv2.imread(image)\n",
    "        img = cv2.cvtColor(img, cv2.COLOR_BGR2RGB)\n",
    "        img = cv2.resize(img, (300, 300)) # For speeding up!\n",
    "        datas.append(img)      \n",
    "        names.append(image.split('\\\\')[1][:-4])\n",
    "    return datas, names"
   ]
  },
  {
   "cell_type": "code",
   "execution_count": null,
   "id": "47827a9b",
   "metadata": {},
   "outputs": [],
   "source": []
  },
  {
   "cell_type": "code",
   "execution_count": 45,
   "id": "f0475c17",
   "metadata": {},
   "outputs": [
    {
     "data": {
      "text/plain": [
       "['putin', 'putin_mask', 'zelensky', 'zelensky_mask']"
      ]
     },
     "execution_count": 45,
     "metadata": {},
     "output_type": "execute_result"
    }
   ],
   "source": [
    "images, names = load_datas('./inputs/P4/')\n",
    "names"
   ]
  },
  {
   "cell_type": "code",
   "execution_count": null,
   "id": "3e4f42ab",
   "metadata": {},
   "outputs": [],
   "source": []
  },
  {
   "cell_type": "code",
   "execution_count": 46,
   "id": "1bee7520",
   "metadata": {},
   "outputs": [],
   "source": [
    "def get_neighbours(pixel, window):\n",
    "    neighbours = [] \n",
    "    margin = window // 2\n",
    "    for i in range(pixel[0] - margin, pixel[0] + margin + 1):\n",
    "        for j in range(pixel[1] - margin, pixel[1] + margin + 1):\n",
    "            neighbours.append((i, j))\n",
    "    return neighbours"
   ]
  },
  {
   "cell_type": "code",
   "execution_count": 47,
   "id": "2be244ba",
   "metadata": {},
   "outputs": [],
   "source": [
    "def zero_paddig(img, margin):\n",
    "    pad = np.zeros(np.add(img.shape, (2 * margin, 2 * margin, 0)))\n",
    "    pad[margin:-margin, margin:-margin] = img\n",
    "    return pad"
   ]
  },
  {
   "cell_type": "code",
   "execution_count": 48,
   "id": "330c7381",
   "metadata": {},
   "outputs": [],
   "source": [
    "def bilateral_filter(img, window, sigma_r, sigma_d):\n",
    "    margin = window // 2\n",
    "    pad = zero_paddig(img, margin)\n",
    "    filterd = np.zeros(img.shape).astype(np.uint8)\n",
    "    \n",
    "    for i in range(margin, pad.shape[0] - margin):\n",
    "        for j in range(margin, pad.shape[1] - margin):\n",
    "            w_sum = 0\n",
    "            pixel_sum = 0\n",
    "            neighbours = get_neighbours((i, j), window=window)\n",
    "            for neighbour in neighbours:\n",
    "                w = np.exp(np.subtract(- np.divide(np.add(np.power(i - neighbour[0], 2), np.power(j - neighbour[1], 2)), 2 * np.power(sigma_d, 2)), np.divide(np.power(pad[i, j] - pad[neighbour], 2), 2 * np.power(sigma_r, 2))))\n",
    "                w_sum += w\n",
    "                pixel_sum += np.multiply(pad[neighbour], w)\n",
    "                \n",
    "            filterd[i - margin, j - margin] = np.divide(pixel_sum, w_sum)\n",
    "    \n",
    "    return filterd"
   ]
  },
  {
   "cell_type": "code",
   "execution_count": 49,
   "id": "81e39e33",
   "metadata": {},
   "outputs": [],
   "source": [
    "def get_masked(img, mask):\n",
    "    res = cv2.bitwise_and(img, mask)\n",
    "    return res"
   ]
  },
  {
   "cell_type": "code",
   "execution_count": null,
   "id": "1bbbb45d",
   "metadata": {},
   "outputs": [],
   "source": []
  },
  {
   "cell_type": "markdown",
   "id": "f4ebc47b",
   "metadata": {},
   "source": [
    "### Part B."
   ]
  },
  {
   "cell_type": "code",
   "execution_count": 56,
   "id": "84aa0ca2",
   "metadata": {},
   "outputs": [],
   "source": [
    "sigma_d = [10, 20, 30, 40, 50]\n",
    "sigma_r = [10, 20, 30, 40, 50]\n",
    "windows = [3, 5, 7, 9]"
   ]
  },
  {
   "cell_type": "code",
   "execution_count": null,
   "id": "7d5e1e7f",
   "metadata": {},
   "outputs": [],
   "source": [
    "fig, axes = plt.subplots(2, 2, figsize=(12, 15))\n",
    "filterds = []\n",
    "for sig_r, sig_d, wind, ax in zip(sigma_r, sigma_d, windows, axes.reshape(-1)):\n",
    "    img = get_masked(images[0], images[1])\n",
    "    filterd = bilateral_filter(img, window=wind, sigma_r=sig_r, sigma_d=sig_d)\n",
    "    filterds.append(filterd)\n",
    "    ax.imshow(filterd)\n",
    "    ax.set_title('w: {} - s_r: {} - s_d: {}'.format(wind, sig_r, sig_d))\n",
    "    ax.axis('off')\n",
    "plt.show()"
   ]
  },
  {
   "cell_type": "code",
   "execution_count": null,
   "id": "a0b49d59",
   "metadata": {},
   "outputs": [],
   "source": []
  },
  {
   "cell_type": "code",
   "execution_count": null,
   "id": "048cbe8c",
   "metadata": {},
   "outputs": [],
   "source": []
  },
  {
   "cell_type": "markdown",
   "id": "5ef3da58",
   "metadata": {},
   "source": [
    "### Part C."
   ]
  },
  {
   "cell_type": "code",
   "execution_count": null,
   "id": "86662c7f",
   "metadata": {},
   "outputs": [],
   "source": []
  },
  {
   "cell_type": "code",
   "execution_count": null,
   "id": "f012c7c9",
   "metadata": {},
   "outputs": [],
   "source": []
  },
  {
   "cell_type": "code",
   "execution_count": null,
   "id": "16cc11d0",
   "metadata": {},
   "outputs": [],
   "source": []
  }
 ],
 "metadata": {
  "kernelspec": {
   "display_name": "Python 3 (ipykernel)",
   "language": "python",
   "name": "python3"
  },
  "language_info": {
   "codemirror_mode": {
    "name": "ipython",
    "version": 3
   },
   "file_extension": ".py",
   "mimetype": "text/x-python",
   "name": "python",
   "nbconvert_exporter": "python",
   "pygments_lexer": "ipython3",
   "version": "3.10.1"
  }
 },
 "nbformat": 4,
 "nbformat_minor": 5
}
