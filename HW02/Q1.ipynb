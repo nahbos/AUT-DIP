{
 "cells": [
  {
   "cell_type": "markdown",
   "id": "045fe767",
   "metadata": {},
   "source": [
    "### - Sobhan Moradian Daghigh\n",
    "#### - 5/3/2022\n",
    "#### - DIP - HW02 - Q1"
   ]
  },
  {
   "cell_type": "code",
   "execution_count": 10,
   "id": "8b0d8697",
   "metadata": {},
   "outputs": [],
   "source": [
    "import numpy as np\n",
    "from PIL import Image\n",
    "import cv2\n",
    "from IPython.display import display\n",
    "from matplotlib import pyplot as plt"
   ]
  },
  {
   "cell_type": "code",
   "execution_count": null,
   "id": "872e506a",
   "metadata": {},
   "outputs": [],
   "source": []
  },
  {
   "cell_type": "markdown",
   "id": "12fb5180",
   "metadata": {},
   "source": [
    "### Part A."
   ]
  },
  {
   "cell_type": "code",
   "execution_count": 2,
   "id": "330331a8",
   "metadata": {},
   "outputs": [],
   "source": [
    "def make_init_img(init, levels=8):\n",
    "    slice_size = 50\n",
    "    blank = np.zeros(np.multiply(init.shape, slice_size)).astype(np.uint8)\n",
    "    for i, row in enumerate(init):\n",
    "        for j, value in enumerate(row):\n",
    "            blank[slice_size * i:slice_size * (i + 1), slice_size * j:slice_size * (j + 1)] = np.array([[round(255 / levels) * value] * slice_size] * slice_size)\n",
    "    return blank"
   ]
  },
  {
   "cell_type": "code",
   "execution_count": 3,
   "id": "dca7c268",
   "metadata": {},
   "outputs": [],
   "source": [
    "def convert2negative(img, levels=8):\n",
    "    blank = img.copy()\n",
    "    for i, row in enumerate(blank):\n",
    "        for j, value in enumerate(row):\n",
    "            blank[i, j] = (levels - 1) - value\n",
    "    return blank"
   ]
  },
  {
   "cell_type": "code",
   "execution_count": null,
   "id": "e296642b",
   "metadata": {},
   "outputs": [],
   "source": []
  },
  {
   "cell_type": "code",
   "execution_count": 4,
   "id": "3e808add",
   "metadata": {},
   "outputs": [
    {
     "data": {
      "image/png": "[encoded data removed]",
      "text/plain": [
       "<PIL.Image.Image image mode=L size=400x50 at 0x2267DAA3940>"
      ]
     },
     "execution_count": 4,
     "metadata": {},
     "output_type": "execute_result"
    }
   ],
   "source": [
    "demo = np.array([[0, 1, 2, 3, 4, 5, 6, 7]])\n",
    "Image.fromarray(make_init_img(demo))"
   ]
  },
  {
   "cell_type": "code",
   "execution_count": null,
   "id": "99a415b8",
   "metadata": {},
   "outputs": [],
   "source": []
  },
  {
   "cell_type": "code",
   "execution_count": 5,
   "id": "fe52eb23",
   "metadata": {},
   "outputs": [
    {
     "data": {
      "image/png": "[encoded data removed]",
      "text/plain": [
       "<PIL.Image.Image image mode=L size=400x400 at 0x2267FF7DCC0>"
      ]
     },
     "execution_count": 5,
     "metadata": {},
     "output_type": "execute_result"
    }
   ],
   "source": [
    "init = np.array([[5, 6, 5, 6, 5, 2, 1, 1],\n",
    "                 [4, 4, 5, 4, 5, 3, 2, 2],\n",
    "                 [5, 5, 3, 5, 6, 3, 2, 2],\n",
    "                 [4, 5, 3, 4, 3, 5, 3, 3],\n",
    "                 [4, 4, 2, 3, 6, 6, 5, 3],\n",
    "                 [5, 4, 2, 6, 6, 6, 6, 3],\n",
    "                 [5, 5, 4, 4, 5, 4, 4, 3],\n",
    "                 [2, 2, 3, 3, 2, 1, 2, 1]])\n",
    "\n",
    "img = make_init_img(init)\n",
    "Image.fromarray(img)"
   ]
  },
  {
   "cell_type": "code",
   "execution_count": null,
   "id": "1379d30e",
   "metadata": {},
   "outputs": [],
   "source": []
  },
  {
   "cell_type": "code",
   "execution_count": 6,
   "id": "e830d68d",
   "metadata": {},
   "outputs": [
    {
     "data": {
      "image/png": "[encoded data removed]",
      "text/plain": [
       "<PIL.Image.Image image mode=L size=400x400 at 0x2267FF7E650>"
      ]
     },
     "metadata": {},
     "output_type": "display_data"
    },
    {
     "name": "stdout",
     "output_type": "stream",
     "text": [
      "[[2 1 2 1 2 5 6 6]\n",
      " [3 3 2 3 2 4 5 5]\n",
      " [2 2 4 2 1 4 5 5]\n",
      " [3 2 4 3 4 2 4 4]\n",
      " [3 3 5 4 1 1 2 4]\n",
      " [2 3 5 1 1 1 1 4]\n",
      " [2 2 3 3 2 3 3 4]\n",
      " [5 5 4 4 5 6 5 6]]\n"
     ]
    }
   ],
   "source": [
    "negative = convert2negative(init)\n",
    "display(Image.fromarray(make_init_img(negative)))\n",
    "print(negative)"
   ]
  },
  {
   "cell_type": "code",
   "execution_count": null,
   "id": "c611e4a3",
   "metadata": {},
   "outputs": [],
   "source": []
  },
  {
   "cell_type": "markdown",
   "id": "5b40c704",
   "metadata": {},
   "source": [
    "### Part B."
   ]
  },
  {
   "cell_type": "code",
   "execution_count": 16,
   "id": "d8a44ae9",
   "metadata": {},
   "outputs": [],
   "source": [
    "def bit_plane_sclicer(img, bits=3):\n",
    "    print('Original')\n",
    "    display(Image.fromarray(make_init_img(img)))\n",
    "    planed = []\n",
    "    for i, row in enumerate(img):\n",
    "        for j, value in enumerate(row):\n",
    "            planed.append(np.binary_repr(img[i, j], width=bits))\n",
    "            \n",
    "    for bit in range(bits):\n",
    "        plane = (np.array([int(plane_bits[bits - bit - 1]) for plane_bits in planed], dtype=np.uint8)).reshape(img.shape)\n",
    "        print('Bit plane {}'.format(bit + 1))\n",
    "        display(Image.fromarray(make_init_img(plane, levels=1)))\n",
    "        print(plane)\n",
    "        print('\\n\\n')"
   ]
  },
  {
   "cell_type": "code",
   "execution_count": null,
   "id": "3a1fb5a3",
   "metadata": {},
   "outputs": [],
   "source": []
  },
  {
   "cell_type": "code",
   "execution_count": 17,
   "id": "9370d8fe",
   "metadata": {},
   "outputs": [
    {
     "name": "stdout",
     "output_type": "stream",
     "text": [
      "Original\n"
     ]
    },
    {
     "data": {
      "image/png": "[encoded data removed]",
      "text/plain": [
       "<PIL.Image.Image image mode=L size=400x400 at 0x2260D449660>"
      ]
     },
     "metadata": {},
     "output_type": "display_data"
    },
    {
     "name": "stdout",
     "output_type": "stream",
     "text": [
      "Bit plane 1\n"
     ]
    },
    {
     "data": {
      "image/png": "[encoded data removed]",
      "text/plain": [
       "<PIL.Image.Image image mode=L size=400x400 at 0x2260D449660>"
      ]
     },
     "metadata": {},
     "output_type": "display_data"
    },
    {
     "name": "stdout",
     "output_type": "stream",
     "text": [
      "[[1 0 1 0 1 0 1 1]\n",
      " [0 0 1 0 1 1 0 0]\n",
      " [1 1 1 1 0 1 0 0]\n",
      " [0 1 1 0 1 1 1 1]\n",
      " [0 0 0 1 0 0 1 1]\n",
      " [1 0 0 0 0 0 0 1]\n",
      " [1 1 0 0 1 0 0 1]\n",
      " [0 0 1 1 0 1 0 1]]\n",
      "\n",
      "\n",
      "\n",
      "Bit plane 2\n"
     ]
    },
    {
     "data": {
      "image/png": "[encoded data removed]",
      "text/plain": [
       "<PIL.Image.Image image mode=L size=400x400 at 0x2260E123C10>"
      ]
     },
     "metadata": {},
     "output_type": "display_data"
    },
    {
     "name": "stdout",
     "output_type": "stream",
     "text": [
      "[[0 1 0 1 0 1 0 0]\n",
      " [0 0 0 0 0 1 1 1]\n",
      " [0 0 1 0 1 1 1 1]\n",
      " [0 0 1 0 1 0 1 1]\n",
      " [0 0 1 1 1 1 0 1]\n",
      " [0 0 1 1 1 1 1 1]\n",
      " [0 0 0 0 0 0 0 1]\n",
      " [1 1 1 1 1 0 1 0]]\n",
      "\n",
      "\n",
      "\n",
      "Bit plane 3\n"
     ]
    },
    {
     "data": {
      "image/png": "[encoded data removed]",
      "text/plain": [
       "<PIL.Image.Image image mode=L size=400x400 at 0x2260E09B880>"
      ]
     },
     "metadata": {},
     "output_type": "display_data"
    },
    {
     "name": "stdout",
     "output_type": "stream",
     "text": [
      "[[1 1 1 1 1 0 0 0]\n",
      " [1 1 1 1 1 0 0 0]\n",
      " [1 1 0 1 1 0 0 0]\n",
      " [1 1 0 1 0 1 0 0]\n",
      " [1 1 0 0 1 1 1 0]\n",
      " [1 1 0 1 1 1 1 0]\n",
      " [1 1 1 1 1 1 1 0]\n",
      " [0 0 0 0 0 0 0 0]]\n",
      "\n",
      "\n",
      "\n"
     ]
    }
   ],
   "source": [
    "bit_plane_sclicer(init)"
   ]
  },
  {
   "cell_type": "code",
   "execution_count": null,
   "id": "6a7597cc",
   "metadata": {},
   "outputs": [],
   "source": []
  },
  {
   "cell_type": "markdown",
   "id": "e4c940bf",
   "metadata": {},
   "source": [
    "### Part C."
   ]
  },
  {
   "cell_type": "code",
   "execution_count": 11,
   "id": "251e2de1",
   "metadata": {},
   "outputs": [
    {
     "data": {
      "image/png": "[encoded data removed]",
      "text/plain": [
       "<Figure size 432x288 with 1 Axes>"
      ]
     },
     "metadata": {
      "needs_background": "light"
     },
     "output_type": "display_data"
    }
   ],
   "source": [
    "plt.hist(init.reshape(-1), bins=6)\n",
    "plt.show()"
   ]
  },
  {
   "cell_type": "code",
   "execution_count": null,
   "id": "a2269b7a",
   "metadata": {},
   "outputs": [],
   "source": []
  },
  {
   "cell_type": "markdown",
   "id": "19a9d47b",
   "metadata": {},
   "source": [
    "### Part D."
   ]
  },
  {
   "cell_type": "code",
   "execution_count": 12,
   "id": "db98f3fe",
   "metadata": {},
   "outputs": [],
   "source": [
    "valley = 4"
   ]
  },
  {
   "cell_type": "code",
   "execution_count": 13,
   "id": "50d715f7",
   "metadata": {},
   "outputs": [
    {
     "data": {
      "image/png": "[encoded data removed]",
      "text/plain": [
       "<PIL.Image.Image image mode=L size=400x400 at 0x2267DA7E110>"
      ]
     },
     "metadata": {},
     "output_type": "display_data"
    },
    {
     "name": "stdout",
     "output_type": "stream",
     "text": [
      "[[1 1 1 1 1 0 0 0]\n",
      " [1 1 1 1 1 0 0 0]\n",
      " [1 1 0 1 1 0 0 0]\n",
      " [1 1 0 1 0 1 0 0]\n",
      " [1 1 0 0 1 1 1 0]\n",
      " [1 1 0 1 1 1 1 0]\n",
      " [1 1 1 1 1 1 1 0]\n",
      " [0 0 0 0 0 0 0 0]]\n"
     ]
    }
   ],
   "source": [
    "for i, row in enumerate(init):\n",
    "    for j, value in enumerate(row):\n",
    "        thresholded = np.array([0 if x < valley else 1 for x in init.reshape(-1)]).reshape(init.shape)\n",
    "display(Image.fromarray(make_init_img(thresholded, levels=1)))\n",
    "print(thresholded)"
   ]
  },
  {
   "cell_type": "code",
   "execution_count": null,
   "id": "9cdcbea8",
   "metadata": {},
   "outputs": [],
   "source": []
  },
  {
   "cell_type": "markdown",
   "id": "0b2eeb47",
   "metadata": {},
   "source": [
    "### Part E."
   ]
  },
  {
   "cell_type": "code",
   "execution_count": 14,
   "id": "fcb260a0",
   "metadata": {},
   "outputs": [
    {
     "data": {
      "image/png": "[encoded data removed]",
      "text/plain": [
       "<PIL.Image.Image image mode=L size=400x400 at 0x2267DA7DB10>"
      ]
     },
     "metadata": {},
     "output_type": "display_data"
    },
    {
     "name": "stdout",
     "output_type": "stream",
     "text": [
      "[[182 219 182 219 182  73  36  36]\n",
      " [146 146 182 146 182 109  73  73]\n",
      " [182 182 109 182 219 109  73  73]\n",
      " [146 182 109 146 109 182 109 109]\n",
      " [146 146  73 109 219 219 182 109]\n",
      " [182 146  73 219 219 219 219 109]\n",
      " [182 182 146 146 182 146 146 109]\n",
      " [ 73  73 109 109  73  36  73  36]]\n"
     ]
    }
   ],
   "source": [
    "nmin, nmax = 0, 255\n",
    "omin, omax = 0, 7\n",
    "\n",
    "space = (nmax - nmin) / (omax - omin)\n",
    "\n",
    "scales = []\n",
    "for i in range(8):\n",
    "    scales.append(round(nmin + (i * space)))\n",
    "    \n",
    "scaled = np.zeros(init.shape).astype(np.uint8)\n",
    "for i, row in enumerate(init):\n",
    "    for j, value in enumerate(row):\n",
    "         scaled[i, j] = scales[value]\n",
    "\n",
    "display(Image.fromarray(make_init_img(scaled, levels=256)))\n",
    "print(scaled)"
   ]
  },
  {
   "cell_type": "code",
   "execution_count": null,
   "id": "ef162cca",
   "metadata": {},
   "outputs": [],
   "source": []
  },
  {
   "cell_type": "code",
   "execution_count": null,
   "id": "b0f3072d",
   "metadata": {},
   "outputs": [],
   "source": []
  },
  {
   "cell_type": "markdown",
   "id": "0566ee96",
   "metadata": {},
   "source": [
    "### Part F."
   ]
  },
  {
   "cell_type": "code",
   "execution_count": 15,
   "id": "2c5a6ba1",
   "metadata": {},
   "outputs": [
    {
     "name": "stdout",
     "output_type": "stream",
     "text": [
      "0.0 0.0 0\n",
      "0.0625 0.0625 0\n",
      "0.171875 0.234375 2\n",
      "0.203125 0.4375 3\n",
      "0.1875 0.625 4\n",
      "0.234375 0.859375 6\n",
      "0.140625 1.0 7\n",
      "0.0 1.0 7\n"
     ]
    },
    {
     "data": {
      "image/png": "[encoded data removed]",
      "text/plain": [
       "<PIL.Image.Image image mode=L size=400x400 at 0x2260D9754E0>"
      ]
     },
     "metadata": {},
     "output_type": "display_data"
    },
    {
     "name": "stdout",
     "output_type": "stream",
     "text": [
      "[[6 7 6 7 6 2 0 0]\n",
      " [4 4 6 4 6 3 2 2]\n",
      " [6 6 3 6 7 3 2 2]\n",
      " [4 6 3 4 3 6 3 3]\n",
      " [4 4 2 3 7 7 6 3]\n",
      " [6 4 2 7 7 7 7 3]\n",
      " [6 6 4 4 6 4 4 3]\n",
      " [2 2 3 3 2 0 2 0]]\n"
     ]
    }
   ],
   "source": [
    "s = 0\n",
    "equs = []\n",
    "for i in range(8):\n",
    "    temp = list(init.reshape(-1)).count(i) / 64\n",
    "    s += temp\n",
    "    equ = round(s * 7)\n",
    "    equs.append(equ)\n",
    "    print(temp, s, equ)\n",
    "\n",
    "equalized = init.copy()\n",
    "for i, row in enumerate(init):\n",
    "    for j, value in enumerate(row):\n",
    "        equalized[i, j] = equs[value]\n",
    "\n",
    "display(Image.fromarray(make_init_img(equalized)))\n",
    "print(equalized)"
   ]
  },
  {
   "cell_type": "code",
   "execution_count": null,
   "id": "18a0cd77",
   "metadata": {},
   "outputs": [],
   "source": []
  },
  {
   "cell_type": "code",
   "execution_count": null,
   "id": "9a8e45d1",
   "metadata": {},
   "outputs": [],
   "source": []
  },
  {
   "cell_type": "code",
   "execution_count": null,
   "id": "d094dfdf",
   "metadata": {},
   "outputs": [],
   "source": []
  },
  {
   "cell_type": "code",
   "execution_count": null,
   "id": "ed9af599",
   "metadata": {},
   "outputs": [],
   "source": []
  }
 ],
 "metadata": {
  "kernelspec": {
   "display_name": "Python 3 (ipykernel)",
   "language": "python",
   "name": "python3"
  },
  "language_info": {
   "codemirror_mode": {
    "name": "ipython",
    "version": 3
   },
   "file_extension": ".py",
   "mimetype": "text/x-python",
   "name": "python",
   "nbconvert_exporter": "python",
   "pygments_lexer": "ipython3",
   "version": "3.10.1"
  }
 },
 "nbformat": 4,
 "nbformat_minor": 5
}
