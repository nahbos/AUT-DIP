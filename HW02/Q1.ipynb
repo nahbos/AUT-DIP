{
 "cells": [
  {
   "cell_type": "markdown",
   "id": "01a5938c",
   "metadata": {},
   "source": [
    "### - Sobhan Moradian Daghigh\n",
    "#### - 5/3/2022\n",
    "#### - DIP - HW02 - Q1"
   ]
  },
  {
   "cell_type": "code",
   "execution_count": 200,
   "id": "b63f8674",
   "metadata": {},
   "outputs": [],
   "source": [
    "import numpy as np\n",
    "from PIL import Image, ImageFilter\n",
    "from matplotlib import pyplot as plt\n",
    "import cv2\n",
    "from IPython.display import display"
   ]
  },
  {
   "cell_type": "code",
   "execution_count": null,
   "id": "977f9598",
   "metadata": {},
   "outputs": [],
   "source": []
  },
  {
   "cell_type": "markdown",
   "id": "c25524d9",
   "metadata": {},
   "source": [
    "### Part A."
   ]
  },
  {
   "cell_type": "code",
   "execution_count": 225,
   "id": "d3b7a498",
   "metadata": {},
   "outputs": [],
   "source": [
    "def make_init_img(init, levels=8):\n",
    "    slice_size = 50\n",
    "    blank = np.zeros(np.multiply(init.shape, slice_size)).astype(np.uint8)\n",
    "    for i, row in enumerate(init):\n",
    "        for j, value in enumerate(row):\n",
    "            blank[slice_size * i:slice_size * (i + 1), slice_size * j:slice_size * (j + 1)] = np.array([[round(255 / levels) * value] * slice_size] * slice_size)\n",
    "    return blank"
   ]
  },
  {
   "cell_type": "code",
   "execution_count": 165,
   "id": "8aa800e6",
   "metadata": {},
   "outputs": [],
   "source": [
    "def convert2negative(img):\n",
    "    for i, row in enumerate(img):\n",
    "        for j, value in enumerate(row):\n",
    "            img[i, j] = 255 - value\n",
    "    return img"
   ]
  },
  {
   "cell_type": "code",
   "execution_count": null,
   "id": "e8f7b237",
   "metadata": {},
   "outputs": [],
   "source": []
  },
  {
   "cell_type": "code",
   "execution_count": 229,
   "id": "6bff0f22",
   "metadata": {},
   "outputs": [
    {
     "data": {
      "image/png": "[encoded data removed]",
      "text/plain": [
       "<PIL.Image.Image image mode=L size=400x50 at 0x2687A247490>"
      ]
     },
     "execution_count": 229,
     "metadata": {},
     "output_type": "execute_result"
    }
   ],
   "source": [
    "demo = np.array([[0, 1, 2, 3, 4, 5, 6, 7]])\n",
    "Image.fromarray(make_init_img(demo))"
   ]
  },
  {
   "cell_type": "code",
   "execution_count": null,
   "id": "84911c92",
   "metadata": {},
   "outputs": [],
   "source": []
  },
  {
   "cell_type": "code",
   "execution_count": 230,
   "id": "bb6b5399",
   "metadata": {},
   "outputs": [
    {
     "data": {
      "image/png": "[encoded data removed]",
      "text/plain": [
       "<PIL.Image.Image image mode=L size=400x400 at 0x2687A245B70>"
      ]
     },
     "execution_count": 230,
     "metadata": {},
     "output_type": "execute_result"
    }
   ],
   "source": [
    "init = np.array([[5, 6, 5, 6, 5, 2, 1, 1],\n",
    "                 [4, 4, 5, 4, 5, 3, 2, 2],\n",
    "                 [5, 5, 3, 5, 6, 3, 2, 2],\n",
    "                 [4, 5, 3, 4, 3, 5, 3, 3],\n",
    "                 [4, 4, 2, 3, 6, 6, 5, 3],\n",
    "                 [5, 4, 2, 6, 6, 6, 6, 3],\n",
    "                 [5, 5, 4, 4, 5, 4, 4, 3],\n",
    "                 [2, 2, 3, 3, 2, 1, 2, 1]])\n",
    "\n",
    "img = make_init_img(init)\n",
    "Image.fromarray(img)"
   ]
  },
  {
   "cell_type": "code",
   "execution_count": null,
   "id": "de186aef",
   "metadata": {},
   "outputs": [],
   "source": []
  },
  {
   "cell_type": "code",
   "execution_count": 231,
   "id": "5a0ea260",
   "metadata": {},
   "outputs": [
    {
     "data": {
      "image/png": "[encoded data removed]",
      "text/plain": [
       "<PIL.Image.Image image mode=L size=400x400 at 0x2687A246350>"
      ]
     },
     "execution_count": 231,
     "metadata": {},
     "output_type": "execute_result"
    }
   ],
   "source": [
    "negative = convert2negative(img)\n",
    "Image.fromarray(negative)"
   ]
  },
  {
   "cell_type": "code",
   "execution_count": null,
   "id": "eb25d96f",
   "metadata": {},
   "outputs": [],
   "source": []
  },
  {
   "cell_type": "markdown",
   "id": "ec855c68",
   "metadata": {},
   "source": [
    "### Part B."
   ]
  },
  {
   "cell_type": "code",
   "execution_count": null,
   "id": "1cbf2799",
   "metadata": {},
   "outputs": [],
   "source": [
    "def bit_plane_sclicer(init, init_bits=3):\n",
    "    print('Original')\n",
    "    display(Image.fromarray(make_init_img(init)))\n",
    "    planed = []\n",
    "    for i, row in enumerate(init):\n",
    "        for j, value in enumerate(row):\n",
    "            planed.append(np.binary_repr(init[i, j], width=init_bits))\n",
    "            \n",
    "    for bit in range(init_bits):\n",
    "        img = (np.array([int(bits[bit]) for bits in planed], dtype=np.uint8)).reshape(init.shape)\n",
    "        print('Bit plane {}'.format(bit + 1))\n",
    "        display(Image.fromarray(make_init_img(img, levels=1)))"
   ]
  },
  {
   "cell_type": "code",
   "execution_count": null,
   "id": "4e6f8b9d",
   "metadata": {},
   "outputs": [],
   "source": []
  },
  {
   "cell_type": "code",
   "execution_count": 237,
   "id": "da522be9",
   "metadata": {},
   "outputs": [
    {
     "name": "stdout",
     "output_type": "stream",
     "text": [
      "Original\n"
     ]
    },
    {
     "data": {
      "image/png": "[encoded data removed]",
      "text/plain": [
       "<PIL.Image.Image image mode=L size=400x400 at 0x2687A245480>"
      ]
     },
     "metadata": {},
     "output_type": "display_data"
    },
    {
     "name": "stdout",
     "output_type": "stream",
     "text": [
      "Bit plane 1\n"
     ]
    },
    {
     "data": {
      "image/png": "[encoded data removed]",
      "text/plain": [
       "<PIL.Image.Image image mode=L size=400x400 at 0x2687F3503D0>"
      ]
     },
     "metadata": {},
     "output_type": "display_data"
    },
    {
     "name": "stdout",
     "output_type": "stream",
     "text": [
      "Bit plane 2\n"
     ]
    },
    {
     "data": {
      "image/png": "[encoded data removed]",
      "text/plain": [
       "<PIL.Image.Image image mode=L size=400x400 at 0x2687F3503D0>"
      ]
     },
     "metadata": {},
     "output_type": "display_data"
    },
    {
     "name": "stdout",
     "output_type": "stream",
     "text": [
      "Bit plane 3\n"
     ]
    },
    {
     "data": {
      "image/png": "[encoded data removed]",
      "text/plain": [
       "<PIL.Image.Image image mode=L size=400x400 at 0x2687F3503D0>"
      ]
     },
     "metadata": {},
     "output_type": "display_data"
    }
   ],
   "source": [
    "bit_plane_sclicer(init)"
   ]
  },
  {
   "cell_type": "code",
   "execution_count": null,
   "id": "8fbb575e",
   "metadata": {},
   "outputs": [],
   "source": []
  },
  {
   "cell_type": "markdown",
   "id": "2960318e",
   "metadata": {},
   "source": [
    "### Part C."
   ]
  },
  {
   "cell_type": "code",
   "execution_count": null,
   "id": "1449e030",
   "metadata": {},
   "outputs": [],
   "source": []
  },
  {
   "cell_type": "code",
   "execution_count": null,
   "id": "f0724fa7",
   "metadata": {},
   "outputs": [],
   "source": []
  },
  {
   "cell_type": "code",
   "execution_count": null,
   "id": "d6aed65e",
   "metadata": {},
   "outputs": [],
   "source": []
  },
  {
   "cell_type": "code",
   "execution_count": null,
   "id": "b76f4fdc",
   "metadata": {},
   "outputs": [],
   "source": []
  },
  {
   "cell_type": "code",
   "execution_count": null,
   "id": "76bb7f21",
   "metadata": {},
   "outputs": [],
   "source": []
  },
  {
   "cell_type": "code",
   "execution_count": null,
   "id": "8ad8d472",
   "metadata": {},
   "outputs": [],
   "source": []
  },
  {
   "cell_type": "code",
   "execution_count": null,
   "id": "13ef2cf5",
   "metadata": {},
   "outputs": [],
   "source": []
  }
 ],
 "metadata": {
  "kernelspec": {
   "display_name": "Python 3 (ipykernel)",
   "language": "python",
   "name": "python3"
  },
  "language_info": {
   "codemirror_mode": {
    "name": "ipython",
    "version": 3
   },
   "file_extension": ".py",
   "mimetype": "text/x-python",
   "name": "python",
   "nbconvert_exporter": "python",
   "pygments_lexer": "ipython3",
   "version": "3.10.1"
  }
 },
 "nbformat": 4,
 "nbformat_minor": 5
}
